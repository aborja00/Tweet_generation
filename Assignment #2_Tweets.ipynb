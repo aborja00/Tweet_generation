{
 "cells": [
  {
   "cell_type": "code",
   "execution_count": 6,
   "id": "f58087f7-1810-4e3e-b641-e7ff24645ad6",
   "metadata": {},
   "outputs": [],
   "source": [
    "from openai import OpenAI\n",
    "client= OpenAI ()"
   ]
  },
  {
   "cell_type": "code",
   "execution_count": 14,
   "id": "8b7282f9-25e5-4e26-a8c4-396e3d180352",
   "metadata": {},
   "outputs": [],
   "source": [
    "## Testing that it works:\n",
    "\n",
    "completion = client.chat.completions.create(\n",
    "  model=\"gpt-4o-mini\",\n",
    "  messages=[\n",
    "    {\"role\": \"user\", \"content\": \"Write about a zebra who gets lost.\"}\n",
    "  ]\n",
    ")"
   ]
  },
  {
   "cell_type": "code",
   "execution_count": 15,
   "id": "510edb5b-3888-44f7-86d7-07790e04f987",
   "metadata": {
    "scrolled": true
   },
   "outputs": [
    {
     "name": "stdout",
     "output_type": "stream",
     "text": [
      "ChatCompletionMessage(content=\"Once upon a time in the sun-kissed savannah, there lived a young zebra named Zuri. With her striking black and white stripes, she prided herself on being a part of the vibrant herd that roamed the plains. Zuri adored the thrill of galloping alongside her friends, but more than anything, she was curious about the world beyond their familiar grazing grounds.\\n\\nOne bright morning, while the herd was busy munching on sweet, green grass, Zuri's adventurous spirit tugged at her heart. She spotted a distant mountain range shimmering in the golden sunlight and decided to explore it. “I’ll just sneak away for a short while,” she thought, “I’ll be back before anyone notices!”\\n\\nWith a bounce in her step, Zuri set off, her heart racing with excitement. The vast landscape unfurled before her like a canvas, and as she trotted along, Zuri lost herself in the beauty of wildflowers and waving grasses. She galloped past babbling brooks and soaring acacia trees, becoming entranced by every new sight and sound.\\n\\nHours slipped by under the burning sun, and Zuri soon realized that she had wandered farther than she intended. The familiar sounds of her herd—the low whinnies and gentle rustling of hooves—were now just echoes in the distance. A chill of worry settled in her stomach as she looked around, realizing she was alone.\\n\\n“I need to find my way back,” Zuri murmured, glancing nervously at the towering mountains that seemed so inviting moments before. With a determined huff, she tried retracing her steps, but every direction looked unfamiliar. The tall grass seemed to swallow her up, and the shadows of the setting sun loomed larger, deepening her sense of disorientation.\\n\\nAs night began to blanket the savannah, Zuri felt the weight of loneliness press upon her. She called out softly, “Herd! Where are you?” Her voice mingled with the night air, but only the rustle of leaves and the distant croaks of frogs replied.\\n\\nDesperate for comfort, Zuri recalled the stories her mother had shared about the nighttime constellations. Remembering that the North Star could guide her home, she gazed up at the sky, its tapestry of stars twinkling above. With a flicker of hope igniting within her, Zuri decided to follow the position of the North Star.\\n\\nAs she moved cautiously through the shadowy plains, she listened carefully, allowing her other senses to guide her. The sounds of the savannah came alive at night—crickets chirping, the soft whispers of the wind, and the occasional call of distant animals. Each sound anchored her as she progressed, reminding her of the life that thrived around her.\\n\\nAfter what felt like an eternity, Zuri finally spotted the flicker of familiar shapes in the moonlight. Her heart leapt as she saw silhouettes herds of animals grazing in the distance—it was her family! She took off at a gallop, her hooves pounding against the earth, and soon she was greeted by the welcoming nuzzles and whinnies of her worried friends.\\n\\nZuri’s heart swelled with relief and joy. “I’m so sorry for worrying you all!” she exclaimed, her voice ringing with sincerity. Her mother stepped forward, affectionately nuzzling her daughter’s cheek. “We were so worried, but we’re glad you’re safe,” she replied softly.\\n\\nThat night, as the stars twinkled above, Zuri snuggled close to her herd, the warmth of companionship washing over her. She learned that while the world beyond her home was full of wonders, there’s no place like the safety of her family. From that day onward, she approached her curiosity with a new understanding—sometimes, the greatest adventures lie in the bonds we cherish. And so, Zuri continued to explore, but always with the comfort and strength of her herd beside her.\", refusal=None, role='assistant', audio=None, function_call=None, tool_calls=None)\n"
     ]
    }
   ],
   "source": [
    "##Testing that it works pt.2:\n",
    "print(completion.choices[0].message)"
   ]
  },
  {
   "cell_type": "markdown",
   "id": "a9b0b1b5-5525-40cf-8600-9d9b8f7f02e7",
   "metadata": {},
   "source": [
    "<h3>Seperating from attempt #1, which made sure that the API key and generation function was working... </h3>\n"
   ]
  },
  {
   "cell_type": "code",
   "execution_count": 110,
   "id": "ea09ad9c-e03c-4831-95fb-e92a2a06a1f5",
   "metadata": {
    "scrolled": true
   },
   "outputs": [],
   "source": [
    "## first attempt\n",
    "def generate_tweet_from_newsarticle(article_text):\n",
    "    summary_prompt = f\"Summarize this article in a short sentence suitable for a tweet: {article_text}\"\n",
    "    response_summary= client.chat.completions.create(\n",
    "        model= \"GPT-4o\",\n",
    "        prompt=summary_prompt,\n",
    "        max_tokens=100)\n",
    "    summary = summary_response.choices[0].text.strip()\n"
   ]
  },
  {
   "cell_type": "code",
   "execution_count": 118,
   "id": "cf9c27a0-a808-4188-aece-77159a1c9e2d",
   "metadata": {},
   "outputs": [
    {
     "name": "stdout",
     "output_type": "stream",
     "text": [
      "ChatCompletion(id='chatcmpl-AbEb8a74cjNt9gDEtmzac7uOkkhLA', choices=[Choice(finish_reason='stop', index=0, logprobs=None, message=ChatCompletionMessage(content=\"Marshan McDonald's is set to open its first location on Mars, featuring snacks made from Martian lava rocks, with millions eager to try this interplanetary delicacy! 🚀🍔 #Mars #CulinaryAdventure\", refusal=None, role='assistant', audio=None, function_call=None, tool_calls=None))], created=1733437614, model='gpt-4o-2024-08-06', object='chat.completion', service_tier=None, system_fingerprint='fp_9d50cd990b', usage=CompletionUsage(completion_tokens=46, prompt_tokens=81, total_tokens=127, completion_tokens_details=CompletionTokensDetails(accepted_prediction_tokens=0, audio_tokens=0, reasoning_tokens=0, rejected_prediction_tokens=0), prompt_tokens_details=PromptTokensDetails(audio_tokens=0, cached_tokens=0)))\n"
     ]
    }
   ],
   "source": [
    "#second attempt \n",
    "##does not want to generate new text \n",
    "def generate_tweet_from_newsarticle(article_text):\n",
    "    response = client.chat.completions.create(\n",
    "      model=\"gpt-4o\",\n",
    "      messages=[\n",
    "    {\"role\": \"system\", \"content\": \"You are helping me wrtie a tweet for a news article.\"},\n",
    "    {\"role\": \"user\", \"content\": f\"Summarize this article in a short sentence suitable for a tweet: {article_text}\"}\n",
    "  ],\n",
    "    max_tokens=100\n",
    ")\n",
    "    tweet = response\n",
    "    return tweet\n",
    "\n",
    "article= \"\"\"\n",
    "Marshan McDonald owners are set to launch their first location in mars. An unprecedented opening and millions of people are lined to try their new snacks which will feature lava rocks, a delicacy on the planet.\n",
    "\"\"\"\n",
    "print (tweet)"
   ]
  },
  {
   "cell_type": "markdown",
   "id": "06560ed7-c0e3-49e3-bf82-1d7509410346",
   "metadata": {},
   "source": [
    "<h3> FINAL ATTEMPT/ SUCCESS!</h3>"
   ]
  },
  {
   "cell_type": "code",
   "execution_count": 132,
   "id": "fa1ff517-50e1-419f-b1fe-3b231f71b48f",
   "metadata": {},
   "outputs": [
    {
     "name": "stdout",
     "output_type": "stream",
     "text": [
      "ChatCompletion(id='chatcmpl-AbEiJ3cG6cBCXammnVaANG4gUEWCr', choices=[Choice(finish_reason='stop', index=0, logprobs=None, message=ChatCompletionMessage(content='Discover happiness at Panzón in Greenpoint with its joyful vibes and mouthwatering tacos like smoked chicken tinga and rich beef birria! 🌮✨', refusal=None, role='assistant', audio=None, function_call=None, tool_calls=None))], created=1733438059, model='gpt-4o-2024-08-06', object='chat.completion', service_tier=None, system_fingerprint='fp_7f6be3efb0', usage=CompletionUsage(completion_tokens=31, prompt_tokens=143, total_tokens=174, completion_tokens_details=CompletionTokensDetails(accepted_prediction_tokens=0, audio_tokens=0, reasoning_tokens=0, rejected_prediction_tokens=0), prompt_tokens_details=PromptTokensDetails(audio_tokens=0, cached_tokens=0)))\n"
     ]
    }
   ],
   "source": [
    "### Third attempt\n",
    "def generate_tweet_from_newsarticle(article_text):\n",
    "    response = client.chat.completions.create(\n",
    "      model=\"gpt-4o\",\n",
    "      messages=[\n",
    "    {\"role\": \"system\", \"content\": \"You are helping me wrtie a tweet for a news article.\"},\n",
    "    {\"role\": \"user\", \"content\": f\"Summarize this article in a short sentence suitable for a tweet: {article_text}\"}\n",
    "  ],\n",
    "    max_tokens=100\n",
    ")\n",
    "    tweet = response\n",
    "    return tweet\n",
    "\n",
    "article= \"\"\"\n",
    "That’s the most gratifying combination of words I’ve seen in a minute. I’ve had some of the most joyful group meals of my adult life at Panzón in Greenpoint, one of those high-energy restaurants that just makes you happy to be alive. (OK, I may have a flair for the dramatic, but stay with me.) They’ve got tacos, all right: smoked chicken tinga with avocado salsa, rich beef birria, Modelo-battered cod with pineapple pico, and roasted sweet potato. \n",
    "\"\"\"\n",
    "\n",
    "tweet = generate_tweet_from_newsarticle(article)\n",
    "print (tweet)"
   ]
  },
  {
   "cell_type": "code",
   "execution_count": 134,
   "id": "23727add-5bae-445f-8487-9669120c6797",
   "metadata": {},
   "outputs": [
    {
     "name": "stdout",
     "output_type": "stream",
     "text": [
      "ChatCompletion(id='chatcmpl-AbEjODnSy2t86qfjtzLKkJhs45WMa', choices=[Choice(finish_reason='stop', index=0, logprobs=None, message=ChatCompletionMessage(content='Celebrate special occasions at Libertine in the West Village, where you can enjoy Parisian dining vibes without the hefty travel cost! 🦆 #NYCEats #LibertineRestaurant', refusal=None, role='assistant', audio=None, function_call=None, tool_calls=None))], created=1733438126, model='gpt-4o-2024-08-06', object='chat.completion', service_tier=None, system_fingerprint='fp_9d50cd990b', usage=CompletionUsage(completion_tokens=37, prompt_tokens=121, total_tokens=158, completion_tokens_details=CompletionTokensDetails(accepted_prediction_tokens=0, audio_tokens=0, reasoning_tokens=0, rejected_prediction_tokens=0), prompt_tokens_details=PromptTokensDetails(audio_tokens=0, cached_tokens=0)))\n"
     ]
    }
   ],
   "source": [
    "## trying it again\n",
    "article= \"\"\"\n",
    "Yeah, when did major milestones become synonymous with porterhouses and pasta?! You might consider Libertine in the West Village, where dining is like going to Paris without the price of going to Paris. The duck deux façons — succulent duck served two ways — will cost you a pretty penny, but hey, this is an anniversary. Plus, the restaurant is way easier to get into than it was a year ago.\n",
    "\"\"\"\n",
    "tweet = generate_tweet_from_newsarticle(article)\n",
    "print (tweet)"
   ]
  },
  {
   "cell_type": "code",
   "execution_count": 139,
   "id": "84135a7c-ebe3-41c3-b8be-a63d464809f9",
   "metadata": {},
   "outputs": [
    {
     "name": "stdout",
     "output_type": "stream",
     "text": [
      "ChatCompletion(id='chatcmpl-AbEoNEjlcllEjQ4NSkL9yTXqm8uRx', choices=[Choice(finish_reason='stop', index=0, logprobs=None, message=ChatCompletionMessage(content=\"UnitedHealthcare CEO Brian Thompson was fatally shot outside a Manhattan hotel amid DOJ's antitrust probe into the company, following a $15M stock sell-off weeks before the investigation became public. #UnitedHealthcare #BrianThompson\", refusal=None, role='assistant', audio=None, function_call=None, tool_calls=None))], created=1733438435, model='gpt-4o-2024-08-06', object='chat.completion', service_tier=None, system_fingerprint='fp_831e067d82', usage=CompletionUsage(completion_tokens=46, prompt_tokens=349, total_tokens=395, completion_tokens_details=CompletionTokensDetails(accepted_prediction_tokens=0, audio_tokens=0, reasoning_tokens=0, rejected_prediction_tokens=0), prompt_tokens_details=PromptTokensDetails(audio_tokens=0, cached_tokens=0)))\n"
     ]
    }
   ],
   "source": [
    "## article was taken from https://nypost.com/2024/12/04/us-news/slain-unitedhealth-ceo-brian-thompson-was-facing-doj-probe-for-insider-trading-report/\n",
    "article3= \"\"\"\n",
    "UnitedHealthcare CEO Brian Thompson was one of several senior executives at the company under investigation by the Department of Justice when he was gunned down outside a Manhattan hotel on Wednesday. Thompson — who was killed in what police called a targeted shooting outside the Hilton hotel in Midtown — exercised stock options and sold shares worth $15.1 million on Feb. 16, less than two weeks before news of the federal antitrust probe went public, according to a Crain’s New York Business report from April.The stock price dropped sharply after the revelation that the DOJ was investigating whether the company had made acquisitions that consolidated its market position in violation of antitrust laws, a source familiar with the probe told the outlet.Thompson’s stock options reportedly had several years until expiration, and the sale of shares was his first since assuming the helm of parent company UnitedHealth’s insurance division in 2021.Thompson, 50, along with UnitedHealth Group chairman Stephen Helmsley, chief people officer Erin McSweeney and chief accounting officer Tom Roos, sold a combined $101.5 million in shares, with Helmsley personally netting just shy of $85 million, according to the report.Earlier this year, UnitedHealth was hit by one of the largest health care data breaches in US history, the company estimating that as many as one-third of Americans’ private data — potentially including Social Security numbers — were compromised in the ransomware attack.The company wound up paying the hackers a $22 million ransom, CEO Andrew Witty told a congressional panel in May.\n",
    "\"\"\"\n",
    "tweet = generate_tweet_from_newsarticle(article3)\n",
    "print (tweet)"
   ]
  }
 ],
 "metadata": {
  "kernelspec": {
   "display_name": "Python 3 (ipykernel)",
   "language": "python",
   "name": "python3"
  },
  "language_info": {
   "codemirror_mode": {
    "name": "ipython",
    "version": 3
   },
   "file_extension": ".py",
   "mimetype": "text/x-python",
   "name": "python",
   "nbconvert_exporter": "python",
   "pygments_lexer": "ipython3",
   "version": "3.12.7"
  }
 },
 "nbformat": 4,
 "nbformat_minor": 5
}
